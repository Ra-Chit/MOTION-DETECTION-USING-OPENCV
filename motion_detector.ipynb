{
 "cells": [
  {
   "cell_type": "code",
   "execution_count": 3,
   "metadata": {},
   "outputs": [],
   "source": [
    "import time\n",
    "import cv2"
   ]
  },
  {
   "cell_type": "code",
   "execution_count": 8,
   "metadata": {},
   "outputs": [
    {
     "ename": "KeyboardInterrupt",
     "evalue": "",
     "output_type": "error",
     "traceback": [
      "\u001b[1;31m---------------------------------------------------------------------------\u001b[0m",
      "\u001b[1;31mKeyboardInterrupt\u001b[0m                         Traceback (most recent call last)",
      "\u001b[1;32me:\\PROJECTS\\motion_detector.ipynb Cell 2\u001b[0m in \u001b[0;36m<module>\u001b[1;34m\u001b[0m\n\u001b[0;32m      <a href='vscode-notebook-cell:/e%3A/PROJECTS/motion_detector.ipynb#W1sZmlsZQ%3D%3D?line=3'>4</a>\u001b[0m first_frame \u001b[39m=\u001b[39m \u001b[39mNone\u001b[39;00m\n\u001b[0;32m      <a href='vscode-notebook-cell:/e%3A/PROJECTS/motion_detector.ipynb#W1sZmlsZQ%3D%3D?line=5'>6</a>\u001b[0m \u001b[39mwhile\u001b[39;00m \u001b[39mTrue\u001b[39;00m:\n\u001b[1;32m----> <a href='vscode-notebook-cell:/e%3A/PROJECTS/motion_detector.ipynb#W1sZmlsZQ%3D%3D?line=6'>7</a>\u001b[0m     check, frame \u001b[39m=\u001b[39m video\u001b[39m.\u001b[39;49mread()\n\u001b[0;32m      <a href='vscode-notebook-cell:/e%3A/PROJECTS/motion_detector.ipynb#W1sZmlsZQ%3D%3D?line=8'>9</a>\u001b[0m     \u001b[39m# Convert to grayscale to increase accuracy of feature detection\u001b[39;00m\n\u001b[0;32m     <a href='vscode-notebook-cell:/e%3A/PROJECTS/motion_detector.ipynb#W1sZmlsZQ%3D%3D?line=9'>10</a>\u001b[0m     gray \u001b[39m=\u001b[39m cv2\u001b[39m.\u001b[39mcvtColor(frame, cv2\u001b[39m.\u001b[39mCOLOR_BGR2GRAY)\n",
      "\u001b[1;31mKeyboardInterrupt\u001b[0m: "
     ]
    }
   ],
   "source": [
    "import cv2\n",
    "\n",
    "video = cv2.VideoCapture(0)  # Replace 0 with the video file path if you want to process a video file\n",
    "first_frame = None\n",
    "\n",
    "while True:\n",
    "    check, frame = video.read()\n",
    "    \n",
    "    # Convert to grayscale to increase accuracy of feature detection\n",
    "    gray = cv2.cvtColor(frame, cv2.COLOR_BGR2GRAY)\n",
    "    gray = cv2.GaussianBlur(gray, (21, 21), 0)\n",
    "    \n",
    "    # Use the first frame as a reference frame\n",
    "    if first_frame is None:\n",
    "        first_frame = gray\n",
    "        continue\n",
    "    \n",
    "    # Compute the difference between the current frame and the reference frame\n",
    "    delta_frame = cv2.absdiff(first_frame, gray)\n",
    "    \n",
    "    # Set a threshold to filter out noise\n",
    "    thresh_frame = cv2.threshold(delta_frame, 50, 255, cv2.THRESH_BINARY)[1]\n",
    "    thresh_frame = cv2.dilate(thresh_frame.copy(), None, iterations=2)\n",
    "    \n",
    "    # Perform contour detection\n",
    "    (cntr, _) = cv2.findContours(thresh_frame.copy(), cv2.RETR_EXTERNAL, cv2.CHAIN_APPROX_SIMPLE)\n",
    "    \n",
    "    # Iterate over detected contours and filter out small ones\n",
    "    for contour in cntr:\n",
    "        if cv2.contourArea(contour) < 10000:\n",
    "            continue\n",
    "        (x, y, w, h) = cv2.boundingRect(contour)\n",
    "        cv2.rectangle(frame, (x, y), (x + w, y + h), (0, 255, 0), 3)\n",
    "    \n",
    "    # Display the resulting frame\n",
    "    cv2.imshow(\"Motion Detection\", frame)\n",
    "    \n",
    "    # Exit loop if 'q' is pressed\n",
    "    key = cv2.waitKey(1)\n",
    "    if key == ord('q'):\n",
    "        break\n",
    "\n",
    "# Release the video capture object and close the windows\n",
    "video.release()\n",
    "cv2.destroyAllWindows()\n"
   ]
  },
  {
   "cell_type": "code",
   "execution_count": null,
   "metadata": {},
   "outputs": [],
   "source": []
  }
 ],
 "metadata": {
  "kernelspec": {
   "display_name": "Python 3",
   "language": "python",
   "name": "python3"
  },
  "language_info": {
   "codemirror_mode": {
    "name": "ipython",
    "version": 3
   },
   "file_extension": ".py",
   "mimetype": "text/x-python",
   "name": "python",
   "nbconvert_exporter": "python",
   "pygments_lexer": "ipython3",
   "version": "3.10.0"
  },
  "orig_nbformat": 4
 },
 "nbformat": 4,
 "nbformat_minor": 2
}
